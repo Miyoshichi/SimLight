{
 "cells": [
  {
   "cell_type": "code",
   "execution_count": 1,
   "metadata": {
    "tags": []
   },
   "outputs": [
    {
     "output_type": "stream",
     "name": "stdout",
     "text": "SimLight 0.0.3\n\n"
    }
   ],
   "source": [
    "import numpy as np\n",
    "import scipy.interpolate\n",
    "\n",
    "import SimLight as sl\n",
    "import SimLight.plottools as slpl"
   ]
  },
  {
   "cell_type": "code",
   "execution_count": 2,
   "metadata": {},
   "outputs": [],
   "source": [
    "# unit\n",
    "m = 1\n",
    "cm = 1e-2\n",
    "mm = 1e-3\n",
    "µm = 1e-6\n",
    "nm = 1e-9"
   ]
  },
  {
   "cell_type": "code",
   "execution_count": 3,
   "metadata": {},
   "outputs": [],
   "source": [
    "wavelength = 0.550 * µm\n",
    "size = 5 * mm\n",
    "N = 300  # pixel number\n",
    "f = 10 * mm\n",
    "z = 10 * mm"
   ]
  },
  {
   "cell_type": "code",
   "execution_count": 4,
   "metadata": {},
   "outputs": [],
   "source": [
    "F = sl.PlaneWave(wavelength, size, N)\n",
    "L = sl.Lens.new_lens(size, f)"
   ]
  },
  {
   "cell_type": "code",
   "execution_count": null,
   "metadata": {
    "tags": []
   },
   "outputs": [],
   "source": [
    "F, F_3d = sl.near_field_propagation(F, L, z, return_3d_field=True, coord='spherical')"
   ]
  },
  {
   "cell_type": "code",
   "execution_count": null,
   "metadata": {},
   "outputs": [],
   "source": [
    "np.save('F.npy', F)\n",
    "np.save('F_3d.npy', F_3d)"
   ]
  },
  {
   "cell_type": "code",
   "execution_count": null,
   "metadata": {},
   "outputs": [],
   "source": [
    "slpl.plot_vertical_intensity(F_3d, norm_type=1)"
   ]
  },
  {
   "cell_type": "code",
   "execution_count": null,
   "metadata": {},
   "outputs": [],
   "source": [
    "F = sl.near_field_propagation(F, L, 9.92 * mm, coord='spherical')\n",
    "size = F.size\n",
    "# before interpolating\n",
    "x = np.linspace(-size / 2, size / 2, F.N)\n",
    "y = np.linspace(-size / 2, size / 2, F.N)\n",
    "# after interpolating\n",
    "xx = np.linspace(-size / 2, size / 2, 100)\n",
    "yy = np.linspace(-size / 2, size / 2, 100)\n",
    "X, Y = np.meshgrid(x, x)\n",
    "F_real = np.real(F.complex_amp)\n",
    "F_imag = np.imag(F.complex_amp)\n",
    "#F_real = np.random.rand(*X.shape)\n",
    "#F_imag = np.random.rand(*X.shape)\n",
    "F_real, F_imag"
   ]
  },
  {
   "cell_type": "code",
   "execution_count": null,
   "metadata": {},
   "outputs": [],
   "source": [
    "X, Y"
   ]
  },
  {
   "cell_type": "code",
   "execution_count": null,
   "metadata": {},
   "outputs": [],
   "source": [
    "resized_real = scipy.interpolate.interp2d(x, y, F_real, kind='cubic')"
   ]
  },
  {
   "cell_type": "code",
   "execution_count": null,
   "metadata": {},
   "outputs": [],
   "source": [
    "resized_imag = scipy.interpolate.interp2d(x, y, F_imag, kind='cubic')"
   ]
  },
  {
   "cell_type": "code",
   "execution_count": null,
   "metadata": {},
   "outputs": [],
   "source": [
    "F.complex_amp = resized_real(xx, yy) + resized_imag(xx, yy) * 1j\n",
    "F.complex_amp"
   ]
  },
  {
   "cell_type": "code",
   "execution_count": null,
   "metadata": {},
   "outputs": [],
   "source": [
    "F.plot_intensity(dimension=2, norm_type=1, mag=2)"
   ]
  }
 ],
 "metadata": {
  "language_info": {
   "codemirror_mode": {
    "name": "ipython",
    "version": 3
   },
   "file_extension": ".py",
   "mimetype": "text/x-python",
   "name": "python",
   "nbconvert_exporter": "python",
   "pygments_lexer": "ipython3",
   "version": "3.7.3-final"
  },
  "orig_nbformat": 2,
  "kernelspec": {
   "name": "python37364bitb8b62c5beb6e4577be04311814747717",
   "display_name": "Python 3.7.3 64-bit"
  }
 },
 "nbformat": 4,
 "nbformat_minor": 2
}