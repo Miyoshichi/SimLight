{
 "metadata": {
  "language_info": {
   "codemirror_mode": {
    "name": "ipython",
    "version": 3
   },
   "file_extension": ".py",
   "mimetype": "text/x-python",
   "name": "python",
   "nbconvert_exporter": "python",
   "pygments_lexer": "ipython3",
   "version": 3
  },
  "orig_nbformat": 2
 },
 "nbformat": 4,
 "nbformat_minor": 2,
 "cells": [
  {
   "cell_type": "code",
   "execution_count": null,
   "metadata": {},
   "outputs": [],
   "source": [
    "import numpy as np\n",
    "\n",
    "import SimLight as sl\n",
    "import SimLight.zernike as slz\n",
    "import SimLight.plottools as slp\n",
    "from SimLight.units import *"
   ]
  },
  {
   "cell_type": "code",
   "execution_count": null,
   "metadata": {},
   "outputs": [],
   "source": [
    "# parameters\n",
    "wavelength = 0.550 * µm  # wavelength of simulated light"
   ]
  },
  {
   "cell_type": "code",
   "execution_count": null,
   "metadata": {},
   "outputs": [],
   "source": [
    "def equivalent_sys(z, h, f1, f2, f3):\n",
    "    tan_u = h / z\n",
    "    tan_U = tan_u - h / f1\n",
    "    h2 = h + (2 * f1) * tan_U\n",
    "    tan_u1 = h2 / f2 - tan_U\n",
    "    h3 = (f2 + f3) * tan_u1 - h2\n",
    "    tan_U1 = tan_u1 - h3 / f3\n",
    "    h4 = h3 + (2 * f3) * tan_U1\n",
    "    r = h4 / tan_U1 if tan_U1 != 0 else np.float('inf')\n",
    "    return h4, r"
   ]
  }
 ]
}